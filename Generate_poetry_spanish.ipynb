{
  "cells": [
    {
      "cell_type": "markdown",
      "metadata": {
        "id": "view-in-github",
        "colab_type": "text"
      },
      "source": [
        "<a href=\"https://colab.research.google.com/github/jaison-leonardo/projects-ML-DL-iue/blob/main/Generate_poetry_spanish.ipynb\" target=\"_parent\"><img src=\"https://colab.research.google.com/assets/colab-badge.svg\" alt=\"Open In Colab\"/></a>"
      ]
    },
    {
      "cell_type": "markdown",
      "id": "6da2f6bb",
      "metadata": {
        "id": "6da2f6bb"
      },
      "source": [
        "# Generador de Poesía en Español con LSTM y Rima Forzada\n",
        "\n",
        "Se implementa paso a paso un generador de poesía en español usando una red LSTM en PyTorch, forzando esquemas de rima (AABB, ABAB, etc).\n",
        "\n",
        "Dataset obtenido de: https://huggingface.co/datasets/somosnlp-hackathon-2022/spanish-poetry-dataset\n",
        "\n",
        "---\n"
      ]
    },
    {
      "cell_type": "markdown",
      "id": "2d153233",
      "metadata": {
        "id": "2d153233"
      },
      "source": [
        "## 1. ¿Cómo funciona?\n",
        "\n",
        "**Tokenización y Vocabulario:**\n",
        "- Cada verso se divide en palabras (tokens). Se construye un vocabulario con las palabras más frecuentes y se asignan índices.\n",
        "- Palabras poco frecuentes se reemplazan por `<unk>`.\n",
        "\n",
        "**Rima forzada:**\n",
        "- Para cada palabra, se extrae un sufijo (por ejemplo, las últimas 3 letras).\n",
        "- Se asigna una etiqueta de rima (A, B, C...) a cada sufijo frecuente.\n",
        "- Al generar, la última palabra de cada verso se fuerza a tener el sufijo correspondiente al esquema de rima (AABB, ABAB, etc).\n",
        "\n",
        "**Modelo LSTM:**\n",
        "- Una red LSTM aprende a predecir la siguiente palabra dado el contexto de palabras anteriores.\n",
        "- El modelo tiene una capa de embedding, una LSTM y una capa lineal final.\n",
        "\n",
        "**Entrenamiento:**\n",
        "- Se entrena para predecir la siguiente palabra de cada verso (teacher forcing).\n",
        "- Se usa CrossEntropyLoss ignorando el padding.\n",
        "\n",
        "**Generación:**\n",
        "- Se genera verso a verso, palabra a palabra.\n",
        "- Para la última palabra de cada verso, se filtra el vocabulario para que solo se puedan elegir palabras con el sufijo de rima correcto.\n",
        "- Si no hay candidatos, se relaja la restricción usando top-k sampling.\n",
        "\n",
        "---\n"
      ]
    },
    {
      "cell_type": "code",
      "execution_count": 1,
      "id": "c12a68c8",
      "metadata": {
        "id": "c12a68c8",
        "colab": {
          "base_uri": "https://localhost:8080/"
        },
        "outputId": "53029d19-4a7e-4a90-d99d-7f10e09bbd38"
      },
      "outputs": [
        {
          "output_type": "stream",
          "name": "stdout",
          "text": [
            "Requirement already satisfied: torch in /usr/local/lib/python3.12/dist-packages (2.8.0+cu126)\n",
            "Requirement already satisfied: numpy in /usr/local/lib/python3.12/dist-packages (2.0.2)\n",
            "Requirement already satisfied: pandas in /usr/local/lib/python3.12/dist-packages (2.2.2)\n",
            "Requirement already satisfied: tqdm in /usr/local/lib/python3.12/dist-packages (4.67.1)\n",
            "Requirement already satisfied: filelock in /usr/local/lib/python3.12/dist-packages (from torch) (3.20.0)\n",
            "Requirement already satisfied: typing-extensions>=4.10.0 in /usr/local/lib/python3.12/dist-packages (from torch) (4.15.0)\n",
            "Requirement already satisfied: setuptools in /usr/local/lib/python3.12/dist-packages (from torch) (75.2.0)\n",
            "Requirement already satisfied: sympy>=1.13.3 in /usr/local/lib/python3.12/dist-packages (from torch) (1.13.3)\n",
            "Requirement already satisfied: networkx in /usr/local/lib/python3.12/dist-packages (from torch) (3.5)\n",
            "Requirement already satisfied: jinja2 in /usr/local/lib/python3.12/dist-packages (from torch) (3.1.6)\n",
            "Requirement already satisfied: fsspec in /usr/local/lib/python3.12/dist-packages (from torch) (2025.3.0)\n",
            "Requirement already satisfied: nvidia-cuda-nvrtc-cu12==12.6.77 in /usr/local/lib/python3.12/dist-packages (from torch) (12.6.77)\n",
            "Requirement already satisfied: nvidia-cuda-runtime-cu12==12.6.77 in /usr/local/lib/python3.12/dist-packages (from torch) (12.6.77)\n",
            "Requirement already satisfied: nvidia-cuda-cupti-cu12==12.6.80 in /usr/local/lib/python3.12/dist-packages (from torch) (12.6.80)\n",
            "Requirement already satisfied: nvidia-cudnn-cu12==9.10.2.21 in /usr/local/lib/python3.12/dist-packages (from torch) (9.10.2.21)\n",
            "Requirement already satisfied: nvidia-cublas-cu12==12.6.4.1 in /usr/local/lib/python3.12/dist-packages (from torch) (12.6.4.1)\n",
            "Requirement already satisfied: nvidia-cufft-cu12==11.3.0.4 in /usr/local/lib/python3.12/dist-packages (from torch) (11.3.0.4)\n",
            "Requirement already satisfied: nvidia-curand-cu12==10.3.7.77 in /usr/local/lib/python3.12/dist-packages (from torch) (10.3.7.77)\n",
            "Requirement already satisfied: nvidia-cusolver-cu12==11.7.1.2 in /usr/local/lib/python3.12/dist-packages (from torch) (11.7.1.2)\n",
            "Requirement already satisfied: nvidia-cusparse-cu12==12.5.4.2 in /usr/local/lib/python3.12/dist-packages (from torch) (12.5.4.2)\n",
            "Requirement already satisfied: nvidia-cusparselt-cu12==0.7.1 in /usr/local/lib/python3.12/dist-packages (from torch) (0.7.1)\n",
            "Requirement already satisfied: nvidia-nccl-cu12==2.27.3 in /usr/local/lib/python3.12/dist-packages (from torch) (2.27.3)\n",
            "Requirement already satisfied: nvidia-nvtx-cu12==12.6.77 in /usr/local/lib/python3.12/dist-packages (from torch) (12.6.77)\n",
            "Requirement already satisfied: nvidia-nvjitlink-cu12==12.6.85 in /usr/local/lib/python3.12/dist-packages (from torch) (12.6.85)\n",
            "Requirement already satisfied: nvidia-cufile-cu12==1.11.1.6 in /usr/local/lib/python3.12/dist-packages (from torch) (1.11.1.6)\n",
            "Requirement already satisfied: triton==3.4.0 in /usr/local/lib/python3.12/dist-packages (from torch) (3.4.0)\n",
            "Requirement already satisfied: python-dateutil>=2.8.2 in /usr/local/lib/python3.12/dist-packages (from pandas) (2.9.0.post0)\n",
            "Requirement already satisfied: pytz>=2020.1 in /usr/local/lib/python3.12/dist-packages (from pandas) (2025.2)\n",
            "Requirement already satisfied: tzdata>=2022.7 in /usr/local/lib/python3.12/dist-packages (from pandas) (2025.2)\n",
            "Requirement already satisfied: six>=1.5 in /usr/local/lib/python3.12/dist-packages (from python-dateutil>=2.8.2->pandas) (1.17.0)\n",
            "Requirement already satisfied: mpmath<1.4,>=1.1.0 in /usr/local/lib/python3.12/dist-packages (from sympy>=1.13.3->torch) (1.3.0)\n",
            "Requirement already satisfied: MarkupSafe>=2.0 in /usr/local/lib/python3.12/dist-packages (from jinja2->torch) (3.0.3)\n"
          ]
        }
      ],
      "source": [
        "# 2. Instalación de dependencias\n",
        "!pip install torch numpy pandas tqdm\n"
      ]
    },
    {
      "cell_type": "markdown",
      "id": "c7c7f5dd",
      "metadata": {
        "id": "c7c7f5dd"
      },
      "source": [
        "## 3. Subir el archivo poems.csv\n",
        "\n",
        "Sube tu archivo `poems.csv` (debe tener columnas como `author`, `content`, `title`). El script detectará automáticamente la columna con más texto útil.\n"
      ]
    },
    {
      "cell_type": "code",
      "execution_count": 2,
      "id": "8ae2018a",
      "metadata": {
        "id": "8ae2018a",
        "colab": {
          "base_uri": "https://localhost:8080/",
          "height": 142
        },
        "outputId": "e888ebff-fbe3-4bd6-bcda-1f0d72371825"
      },
      "outputs": [
        {
          "output_type": "display_data",
          "data": {
            "text/plain": [
              "<IPython.core.display.HTML object>"
            ],
            "text/html": [
              "\n",
              "     <input type=\"file\" id=\"files-2f3943c0-e2a9-45d1-9b94-a1add0bf3627\" name=\"files[]\" multiple disabled\n",
              "        style=\"border:none\" />\n",
              "     <output id=\"result-2f3943c0-e2a9-45d1-9b94-a1add0bf3627\">\n",
              "      Upload widget is only available when the cell has been executed in the\n",
              "      current browser session. Please rerun this cell to enable.\n",
              "      </output>\n",
              "      <script>// Copyright 2017 Google LLC\n",
              "//\n",
              "// Licensed under the Apache License, Version 2.0 (the \"License\");\n",
              "// you may not use this file except in compliance with the License.\n",
              "// You may obtain a copy of the License at\n",
              "//\n",
              "//      http://www.apache.org/licenses/LICENSE-2.0\n",
              "//\n",
              "// Unless required by applicable law or agreed to in writing, software\n",
              "// distributed under the License is distributed on an \"AS IS\" BASIS,\n",
              "// WITHOUT WARRANTIES OR CONDITIONS OF ANY KIND, either express or implied.\n",
              "// See the License for the specific language governing permissions and\n",
              "// limitations under the License.\n",
              "\n",
              "/**\n",
              " * @fileoverview Helpers for google.colab Python module.\n",
              " */\n",
              "(function(scope) {\n",
              "function span(text, styleAttributes = {}) {\n",
              "  const element = document.createElement('span');\n",
              "  element.textContent = text;\n",
              "  for (const key of Object.keys(styleAttributes)) {\n",
              "    element.style[key] = styleAttributes[key];\n",
              "  }\n",
              "  return element;\n",
              "}\n",
              "\n",
              "// Max number of bytes which will be uploaded at a time.\n",
              "const MAX_PAYLOAD_SIZE = 100 * 1024;\n",
              "\n",
              "function _uploadFiles(inputId, outputId) {\n",
              "  const steps = uploadFilesStep(inputId, outputId);\n",
              "  const outputElement = document.getElementById(outputId);\n",
              "  // Cache steps on the outputElement to make it available for the next call\n",
              "  // to uploadFilesContinue from Python.\n",
              "  outputElement.steps = steps;\n",
              "\n",
              "  return _uploadFilesContinue(outputId);\n",
              "}\n",
              "\n",
              "// This is roughly an async generator (not supported in the browser yet),\n",
              "// where there are multiple asynchronous steps and the Python side is going\n",
              "// to poll for completion of each step.\n",
              "// This uses a Promise to block the python side on completion of each step,\n",
              "// then passes the result of the previous step as the input to the next step.\n",
              "function _uploadFilesContinue(outputId) {\n",
              "  const outputElement = document.getElementById(outputId);\n",
              "  const steps = outputElement.steps;\n",
              "\n",
              "  const next = steps.next(outputElement.lastPromiseValue);\n",
              "  return Promise.resolve(next.value.promise).then((value) => {\n",
              "    // Cache the last promise value to make it available to the next\n",
              "    // step of the generator.\n",
              "    outputElement.lastPromiseValue = value;\n",
              "    return next.value.response;\n",
              "  });\n",
              "}\n",
              "\n",
              "/**\n",
              " * Generator function which is called between each async step of the upload\n",
              " * process.\n",
              " * @param {string} inputId Element ID of the input file picker element.\n",
              " * @param {string} outputId Element ID of the output display.\n",
              " * @return {!Iterable<!Object>} Iterable of next steps.\n",
              " */\n",
              "function* uploadFilesStep(inputId, outputId) {\n",
              "  const inputElement = document.getElementById(inputId);\n",
              "  inputElement.disabled = false;\n",
              "\n",
              "  const outputElement = document.getElementById(outputId);\n",
              "  outputElement.innerHTML = '';\n",
              "\n",
              "  const pickedPromise = new Promise((resolve) => {\n",
              "    inputElement.addEventListener('change', (e) => {\n",
              "      resolve(e.target.files);\n",
              "    });\n",
              "  });\n",
              "\n",
              "  const cancel = document.createElement('button');\n",
              "  inputElement.parentElement.appendChild(cancel);\n",
              "  cancel.textContent = 'Cancel upload';\n",
              "  const cancelPromise = new Promise((resolve) => {\n",
              "    cancel.onclick = () => {\n",
              "      resolve(null);\n",
              "    };\n",
              "  });\n",
              "\n",
              "  // Wait for the user to pick the files.\n",
              "  const files = yield {\n",
              "    promise: Promise.race([pickedPromise, cancelPromise]),\n",
              "    response: {\n",
              "      action: 'starting',\n",
              "    }\n",
              "  };\n",
              "\n",
              "  cancel.remove();\n",
              "\n",
              "  // Disable the input element since further picks are not allowed.\n",
              "  inputElement.disabled = true;\n",
              "\n",
              "  if (!files) {\n",
              "    return {\n",
              "      response: {\n",
              "        action: 'complete',\n",
              "      }\n",
              "    };\n",
              "  }\n",
              "\n",
              "  for (const file of files) {\n",
              "    const li = document.createElement('li');\n",
              "    li.append(span(file.name, {fontWeight: 'bold'}));\n",
              "    li.append(span(\n",
              "        `(${file.type || 'n/a'}) - ${file.size} bytes, ` +\n",
              "        `last modified: ${\n",
              "            file.lastModifiedDate ? file.lastModifiedDate.toLocaleDateString() :\n",
              "                                    'n/a'} - `));\n",
              "    const percent = span('0% done');\n",
              "    li.appendChild(percent);\n",
              "\n",
              "    outputElement.appendChild(li);\n",
              "\n",
              "    const fileDataPromise = new Promise((resolve) => {\n",
              "      const reader = new FileReader();\n",
              "      reader.onload = (e) => {\n",
              "        resolve(e.target.result);\n",
              "      };\n",
              "      reader.readAsArrayBuffer(file);\n",
              "    });\n",
              "    // Wait for the data to be ready.\n",
              "    let fileData = yield {\n",
              "      promise: fileDataPromise,\n",
              "      response: {\n",
              "        action: 'continue',\n",
              "      }\n",
              "    };\n",
              "\n",
              "    // Use a chunked sending to avoid message size limits. See b/62115660.\n",
              "    let position = 0;\n",
              "    do {\n",
              "      const length = Math.min(fileData.byteLength - position, MAX_PAYLOAD_SIZE);\n",
              "      const chunk = new Uint8Array(fileData, position, length);\n",
              "      position += length;\n",
              "\n",
              "      const base64 = btoa(String.fromCharCode.apply(null, chunk));\n",
              "      yield {\n",
              "        response: {\n",
              "          action: 'append',\n",
              "          file: file.name,\n",
              "          data: base64,\n",
              "        },\n",
              "      };\n",
              "\n",
              "      let percentDone = fileData.byteLength === 0 ?\n",
              "          100 :\n",
              "          Math.round((position / fileData.byteLength) * 100);\n",
              "      percent.textContent = `${percentDone}% done`;\n",
              "\n",
              "    } while (position < fileData.byteLength);\n",
              "  }\n",
              "\n",
              "  // All done.\n",
              "  yield {\n",
              "    response: {\n",
              "      action: 'complete',\n",
              "    }\n",
              "  };\n",
              "}\n",
              "\n",
              "scope.google = scope.google || {};\n",
              "scope.google.colab = scope.google.colab || {};\n",
              "scope.google.colab._files = {\n",
              "  _uploadFiles,\n",
              "  _uploadFilesContinue,\n",
              "};\n",
              "})(self);\n",
              "</script> "
            ]
          },
          "metadata": {}
        },
        {
          "output_type": "stream",
          "name": "stdout",
          "text": [
            "Saving poems.csv to poems (1).csv\n",
            "Archivos en el directorio actual:\n",
            "total 5084\n",
            "-rw-r--r-- 1 root root 5198384 Oct 29 05:17 poems.csv\n",
            "drwxr-xr-x 1 root root    4096 Oct 27 13:37 sample_data\n"
          ]
        }
      ],
      "source": [
        "from google.colab import files\n",
        "uploaded = files.upload()\n",
        "# El archivo debe llamarse poems.csv o renómbralo aquí si es necesario\n",
        "import os\n",
        "if 'poems.csv' not in uploaded:\n",
        "    for k in uploaded:\n",
        "        os.rename(k, 'poems.csv')\n",
        "        break\n",
        "print('Archivos en el directorio actual:')\n",
        "!ls -l\n"
      ]
    },
    {
      "cell_type": "markdown",
      "id": "b890ead9",
      "metadata": {
        "id": "b890ead9"
      },
      "source": [
        "## 4. Preprocesado, tokenización y construcción de vocabulario\n",
        "\n",
        "- Leemos el CSV y detectamos automáticamente la columna con más texto útil.\n",
        "- Cada poema se separa en versos (líneas), preservando saltos de estrofa.\n",
        "- Se normaliza a minúsculas y se eliminan espacios extra.\n",
        "- Se tokeniza por palabra (split por espacio).\n",
        "- Se construye un vocabulario con las palabras más frecuentes (parámetro `max_vocab`).\n",
        "- Palabras fuera del vocabulario se reemplazan por `<unk>`.\n",
        "- Se asignan sufijos de rima y etiquetas (A, B, C...) según frecuencia.\n"
      ]
    },
    {
      "cell_type": "code",
      "execution_count": 9,
      "id": "3dabcf31",
      "metadata": {
        "id": "3dabcf31",
        "colab": {
          "base_uri": "https://localhost:8080/"
        },
        "outputId": "949606e9-8235-4d9d-cda3-11cd2dd95172"
      },
      "outputs": [
        {
          "output_type": "stream",
          "name": "stdout",
          "text": [
            "Columna de texto detectada: content\n",
            "Número total de versos (incluyendo líneas vacías): 173016\n",
            "Tamaño del vocabulario: 20004\n",
            "Ejemplo de sufijos y etiquetas de rima: [('ndo', 'A'), ('ado', 'B'), ('nte', 'C'), ('ada', 'D'), ('dos', 'E'), ('ido', 'F'), ('ras', 'G'), ('res', 'H'), ('das', 'I'), ('les', 'J')]\n"
          ]
        }
      ],
      "source": [
        "import pandas as pd\n",
        "import numpy as np\n",
        "import re\n",
        "from collections import Counter\n",
        "\n",
        "# Parámetros\n",
        "max_vocab = 20000  # Se intenta reducir los <unk>\n",
        "rhyme_suffix_len = 3\n",
        "special_tokens = ['<pad>', '<s>', '</s>', '<unk>']\n",
        "\n",
        "# Leer CSV y detectar columna de texto\n",
        "poems_df = pd.read_csv('poems.csv', encoding='utf-8')\n",
        "def detect_text_column(df):\n",
        "    text_cols = []\n",
        "    for c in df.columns:\n",
        "        if df[c].dtype == object:\n",
        "            total = df[c].dropna().astype(str).map(len).sum()\n",
        "            text_cols.append((total, c))\n",
        "    text_cols.sort(reverse=True)\n",
        "    return text_cols[0][1]\n",
        "\n",
        "text_col = detect_text_column(poems_df)\n",
        "print('Columna de texto detectada:', text_col)\n",
        "\n",
        "# Extraer versos y limpiar\n",
        "verses = []\n",
        "def clean_line(line):\n",
        "    if line is None:\n",
        "        return ''\n",
        "    line = str(line).replace('\\ufeff', '').replace('\\r', '').strip().lower()\n",
        "    line = re.sub(r\"\\s+\", ' ', line)\n",
        "    return line\n",
        "\n",
        "def lines_from_text_block(text_block):\n",
        "    text_block = str(text_block).replace('\\r\\n', '\\n').replace('\\r', '\\n')\n",
        "    lines = [clean_line(l) for l in text_block.split('\\n')]\n",
        "    return lines\n",
        "\n",
        "for v in poems_df[text_col].astype(str).fillna(''):\n",
        "    block_lines = lines_from_text_block(v)\n",
        "    for l in block_lines:\n",
        "        if l == '':\n",
        "            verses.append('')\n",
        "        else:\n",
        "            verses.append(l)\n",
        "\n",
        "print('Número total de versos (incluyendo líneas vacías):', len(verses))\n",
        "\n",
        "# Tokenización y vocabulario\n",
        "words = []\n",
        "for l in verses:\n",
        "    if l:\n",
        "        words.extend(l.split())\n",
        "word_freq = Counter(words)\n",
        "most = [w for w, _ in word_freq.most_common(max_vocab)]\n",
        "token_to_idx = {tok: i for i, tok in enumerate(special_tokens)}\n",
        "for w in most:\n",
        "    if w not in token_to_idx:\n",
        "        token_to_idx[w] = len(token_to_idx)\n",
        "idx_to_token = {i: t for t, i in token_to_idx.items()}\n",
        "print('Tamaño del vocabulario:', len(token_to_idx))\n",
        "\n",
        "# Sufijos de rima y etiquetas\n",
        "def get_rhyme_suffix(word, rhyme_suffix_len=3):\n",
        "    w = re.sub(r\"[^\\wáéíóúüñÁÉÍÓÚÜÑ]\", '', word, flags=re.UNICODE).lower()\n",
        "    return w[-rhyme_suffix_len:] if len(w) >= rhyme_suffix_len else w\n",
        "\n",
        "suffix_counts = Counter()\n",
        "word_suffix = {}\n",
        "for w in most:\n",
        "    s = get_rhyme_suffix(w, rhyme_suffix_len)\n",
        "    word_suffix[w] = s\n",
        "    suffix_counts[s] += 1\n",
        "label_map = {}\n",
        "for i, (suf, _) in enumerate(suffix_counts.most_common()):\n",
        "    label = chr(ord('A') + (i % 26))\n",
        "    label_map[suf] = label\n",
        "word2label = {w: label_map[word_suffix[w]] for w in most}\n",
        "print('Ejemplo de sufijos y etiquetas de rima:', list(label_map.items())[:10])\n"
      ]
    },
    {
      "cell_type": "code",
      "source": [
        "# Diagnóstico: muestra versos originales y su tokenización\n",
        "print('\\nEjemplo de versos originales y tokens:')\n",
        "for i, l in enumerate(verses):\n",
        "    if l and i < 10:\n",
        "        print(f\"Verso: {l}\")\n",
        "        print(f\"Tokens: {l.split()}\")\n",
        "        print()"
      ],
      "metadata": {
        "colab": {
          "base_uri": "https://localhost:8080/"
        },
        "id": "EjGwsSTLcExo",
        "outputId": "9bc210de-3529-4323-80e7-d17f5c0fb672"
      },
      "id": "EjGwsSTLcExo",
      "execution_count": 10,
      "outputs": [
        {
          "output_type": "stream",
          "name": "stdout",
          "text": [
            "\n",
            "Ejemplo de versos originales y tokens:\n",
            "Verso: en el parque confuso\n",
            "Tokens: ['en', 'el', 'parque', 'confuso']\n",
            "\n",
            "Verso: que con lánguidas brisas el cielo sahúma,\n",
            "Tokens: ['que', 'con', 'lánguidas', 'brisas', 'el', 'cielo', 'sahúma,']\n",
            "\n",
            "Verso: el ciprés, como un huso,\n",
            "Tokens: ['el', 'ciprés,', 'como', 'un', 'huso,']\n",
            "\n",
            "Verso: devana un ovillo de de bruma.\n",
            "Tokens: ['devana', 'un', 'ovillo', 'de', 'de', 'bruma.']\n",
            "\n",
            "Verso: el telar de la luna tiende en plata su urdimbre;\n",
            "Tokens: ['el', 'telar', 'de', 'la', 'luna', 'tiende', 'en', 'plata', 'su', 'urdimbre;']\n",
            "\n",
            "Verso: abandona la rada un lúgubre corsario,\n",
            "Tokens: ['abandona', 'la', 'rada', 'un', 'lúgubre', 'corsario,']\n",
            "\n",
            "Verso: y después suena un timbre\n",
            "Tokens: ['y', 'después', 'suena', 'un', 'timbre']\n",
            "\n",
            "Verso: en el vecindario.\n",
            "Tokens: ['en', 'el', 'vecindario.']\n",
            "\n"
          ]
        }
      ]
    },
    {
      "cell_type": "markdown",
      "id": "387adf9c",
      "metadata": {
        "id": "387adf9c"
      },
      "source": [
        "## 5. Definición del modelo LSTM\n",
        "\n",
        "- El modelo tiene una capa de embedding, una LSTM y una capa lineal final.\n",
        "- La entrada es una secuencia de índices de palabras.\n",
        "- La salida es una secuencia de logits (probabilidades no normalizadas) para cada posición.\n"
      ]
    },
    {
      "cell_type": "code",
      "execution_count": 11,
      "id": "a51ccb38",
      "metadata": {
        "id": "a51ccb38",
        "colab": {
          "base_uri": "https://localhost:8080/"
        },
        "outputId": "4daff93a-d11b-42b6-9453-292adfe1b494"
      },
      "outputs": [
        {
          "output_type": "stream",
          "name": "stdout",
          "text": [
            "PoetryLSTM(\n",
            "  (embedding): Embedding(20004, 128, padding_idx=0)\n",
            "  (lstm): LSTM(128, 256, batch_first=True, dropout=0.2)\n",
            "  (fc): Linear(in_features=256, out_features=20004, bias=True)\n",
            ")\n"
          ]
        },
        {
          "output_type": "stream",
          "name": "stderr",
          "text": [
            "/usr/local/lib/python3.12/dist-packages/torch/nn/modules/rnn.py:123: UserWarning: dropout option adds dropout after all but last recurrent layer, so non-zero dropout expects num_layers greater than 1, but got dropout=0.2 and num_layers=1\n",
            "  warnings.warn(\n"
          ]
        }
      ],
      "source": [
        "import torch\n",
        "import torch.nn as nn\n",
        "\n",
        "class PoetryLSTM(nn.Module):\n",
        "    def __init__(self, vocab_size, embed_dim=128, hidden_size=256, num_layers=1, dropout=0.2, pad_idx=0):\n",
        "        super().__init__()\n",
        "        self.embedding = nn.Embedding(vocab_size, embed_dim, padding_idx=pad_idx)\n",
        "        self.lstm = nn.LSTM(embed_dim, hidden_size, num_layers=num_layers, batch_first=True, dropout=dropout)\n",
        "        self.fc = nn.Linear(hidden_size, vocab_size)\n",
        "    def forward(self, x, hidden=None):\n",
        "        emb = self.embedding(x)\n",
        "        out, hidden = self.lstm(emb, hidden)\n",
        "        logits = self.fc(out)\n",
        "        return logits, hidden\n",
        "\n",
        "vocab_size = len(token_to_idx)\n",
        "pad_idx = token_to_idx['<pad>']\n",
        "model = PoetryLSTM(vocab_size, pad_idx=pad_idx)\n",
        "device = torch.device('cuda' if torch.cuda.is_available() else 'cpu')\n",
        "model = model.to(device)\n",
        "print(model)\n"
      ]
    },
    {
      "cell_type": "markdown",
      "id": "ff1f6f1d",
      "metadata": {
        "id": "ff1f6f1d"
      },
      "source": [
        "## 6. Preparación de datos para entrenamiento\n",
        "\n",
        "- Cada verso se convierte en una secuencia de índices de palabras, con tokens especiales `<s>` (inicio) y `</s>` (fin).\n",
        "- Se ignoran líneas vacías (separadores de estrofa).\n",
        "- Se rellenan las secuencias con `<pad>` para igualar longitudes en cada batch.\n"
      ]
    },
    {
      "cell_type": "code",
      "execution_count": 12,
      "id": "0360bb02",
      "metadata": {
        "id": "0360bb02",
        "colab": {
          "base_uri": "https://localhost:8080/"
        },
        "outputId": "ae3d80da-8d12-4a5c-bb9d-2400a7896134"
      },
      "outputs": [
        {
          "output_type": "stream",
          "name": "stdout",
          "text": [
            "Número de versos para entrenamiento: 150424\n"
          ]
        }
      ],
      "source": [
        "from torch.utils.data import Dataset, DataLoader\n",
        "\n",
        "class VersesDataset(Dataset):\n",
        "    def __init__(self, verses, token_to_idx):\n",
        "        self.sequences = []\n",
        "        for l in verses:\n",
        "            if not l:\n",
        "                continue\n",
        "            toks = ['<s>'] + l.split() + ['</s>']\n",
        "            idxs = [token_to_idx.get(t, token_to_idx['<unk>']) for t in toks]\n",
        "            self.sequences.append(idxs)\n",
        "    def __len__(self):\n",
        "        return len(self.sequences)\n",
        "    def __getitem__(self, idx):\n",
        "        return torch.tensor(self.sequences[idx], dtype=torch.long)\n",
        "\n",
        "def collate_fn(batch):\n",
        "    lengths = [b.size(0) for b in batch]\n",
        "    maxlen = max(lengths)\n",
        "    padded = torch.full((len(batch), maxlen), fill_value=pad_idx, dtype=torch.long)\n",
        "    for i, b in enumerate(batch):\n",
        "        padded[i, : b.size(0)] = b\n",
        "    return padded\n",
        "\n",
        "dataset = VersesDataset(verses, token_to_idx)\n",
        "print('Número de versos para entrenamiento:', len(dataset))\n"
      ]
    },
    {
      "cell_type": "markdown",
      "id": "a7a04317",
      "metadata": {
        "id": "a7a04317"
      },
      "source": [
        "## 7. Entrenamiento del modelo, visualización de la pérdida y generación de ejemplos\n",
        "\n",
        "- Entrenamos el modelo usando CrossEntropyLoss ignorando el padding.\n",
        "- Se usa Adam como optimizador.\n",
        "- Al final de cada epoch, se grafica la pérdida y se genera un ejemplo de estrofa con rima forzada para monitoreo.\n"
      ]
    },
    {
      "cell_type": "code",
      "execution_count": 16,
      "id": "f3d51a1e",
      "metadata": {
        "id": "f3d51a1e",
        "colab": {
          "base_uri": "https://localhost:8080/",
          "height": 1000
        },
        "outputId": "8d083c0d-5ef1-403f-92dc-e956c718db11"
      },
      "outputs": [
        {
          "output_type": "stream",
          "name": "stderr",
          "text": [
            "Epoch 1: 100%|██████████| 2351/2351 [00:40<00:00, 57.70it/s]\n"
          ]
        },
        {
          "output_type": "stream",
          "name": "stdout",
          "text": [
            "Epoch 1 - Loss promedio: 3.8025\n",
            "\n",
            "Ejemplo de estrofa generada (AABB):\n",
            "de mí el corazón de <unk>\n",
            "tu corazón, de <unk> era la <unk>\n",
            "y la voz de <unk> viene!\n",
            "que no quiero,\n",
            "----------------------------------------\n"
          ]
        },
        {
          "output_type": "stream",
          "name": "stderr",
          "text": [
            "Epoch 2: 100%|██████████| 2351/2351 [00:41<00:00, 56.65it/s]\n"
          ]
        },
        {
          "output_type": "stream",
          "name": "stdout",
          "text": [
            "Epoch 2 - Loss promedio: 3.6090\n",
            "\n",
            "Ejemplo de estrofa generada (AABB):\n",
            "<unk> la muerte\n",
            "no hay más sol, porque una <unk>\n",
            "para el <unk> de la verdad ignorada,\n",
            "que la carne a otro el soldado\n",
            "----------------------------------------\n"
          ]
        },
        {
          "output_type": "stream",
          "name": "stderr",
          "text": [
            "Epoch 3: 100%|██████████| 2351/2351 [00:41<00:00, 56.64it/s]\n"
          ]
        },
        {
          "output_type": "stream",
          "name": "stdout",
          "text": [
            "Epoch 3 - Loss promedio: 3.5016\n",
            "\n",
            "Ejemplo de estrofa generada (AABB):\n",
            "no tienen fin. sabemos\n",
            "que el amor ha <unk>\n",
            "a la tierra,\n",
            "tú con mi voz sola y no importaba\n",
            "----------------------------------------\n"
          ]
        },
        {
          "output_type": "stream",
          "name": "stderr",
          "text": [
            "Epoch 4: 100%|██████████| 2351/2351 [00:41<00:00, 56.76it/s]\n"
          ]
        },
        {
          "output_type": "stream",
          "name": "stdout",
          "text": [
            "Epoch 4 - Loss promedio: 3.4158\n",
            "\n",
            "Ejemplo de estrofa generada (AABB):\n",
            "de la finojosa.\n",
            "que <unk> a <unk> en este engaño\n",
            "y si sujetas en tanto que aún me <unk>\n",
            "y al fin mi sombra <unk>\n",
            "----------------------------------------\n"
          ]
        },
        {
          "output_type": "stream",
          "name": "stderr",
          "text": [
            "Epoch 5: 100%|██████████| 2351/2351 [00:41<00:00, 56.19it/s]\n"
          ]
        },
        {
          "output_type": "stream",
          "name": "stdout",
          "text": [
            "Epoch 5 - Loss promedio: 3.3407\n",
            "\n",
            "Ejemplo de estrofa generada (AABB):\n",
            "para que <unk>\n",
            "<unk> lo peor ha dejado\n",
            "<unk> tu alarma\n",
            "sin que el aire dure tu retrato\n",
            "----------------------------------------\n"
          ]
        },
        {
          "output_type": "stream",
          "name": "stderr",
          "text": [
            "Epoch 6: 100%|██████████| 2351/2351 [00:41<00:00, 56.90it/s]\n"
          ]
        },
        {
          "output_type": "stream",
          "name": "stdout",
          "text": [
            "Epoch 6 - Loss promedio: 3.2741\n",
            "\n",
            "Ejemplo de estrofa generada (AABB):\n",
            "el agua de los <unk> el <unk>\n",
            "un gran horizonte con cenizas\n",
            "de <unk> <unk>\n",
            "la <unk> de algún sexo\n",
            "----------------------------------------\n"
          ]
        },
        {
          "output_type": "stream",
          "name": "stderr",
          "text": [
            "Epoch 7: 100%|██████████| 2351/2351 [00:41<00:00, 57.07it/s]\n"
          ]
        },
        {
          "output_type": "stream",
          "name": "stdout",
          "text": [
            "Epoch 7 - Loss promedio: 3.2132\n",
            "\n",
            "Ejemplo de estrofa generada (AABB):\n",
            "la piel que a mis pies se <unk>\n",
            "como la <unk> con la <unk>\n",
            "con tu puedo y con la <unk>\n",
            "de otra manera.\n",
            "----------------------------------------\n"
          ]
        },
        {
          "output_type": "stream",
          "name": "stderr",
          "text": [
            "Epoch 8: 100%|██████████| 2351/2351 [00:41<00:00, 56.87it/s]\n"
          ]
        },
        {
          "output_type": "stream",
          "name": "stdout",
          "text": [
            "Epoch 8 - Loss promedio: 3.1583\n",
            "\n",
            "Ejemplo de estrofa generada (AABB):\n",
            "y todo al fin, <unk> al fin que <unk> nos\n",
            "porque son tan <unk>\n",
            "del fresco absoluto <unk>\n",
            "y el escorpión de la patria es la roca,\n",
            "----------------------------------------\n"
          ]
        },
        {
          "output_type": "stream",
          "name": "stderr",
          "text": [
            "Epoch 9: 100%|██████████| 2351/2351 [00:41<00:00, 56.84it/s]\n"
          ]
        },
        {
          "output_type": "stream",
          "name": "stdout",
          "text": [
            "Epoch 9 - Loss promedio: 3.1078\n",
            "\n",
            "Ejemplo de estrofa generada (AABB):\n",
            "los pies <unk> la sangre\n",
            "pero se deja respirar ya <unk>\n",
            "<unk> <unk> es el verde de mi huerto florido\n",
            "<unk> los <unk>\n",
            "----------------------------------------\n"
          ]
        },
        {
          "output_type": "stream",
          "name": "stderr",
          "text": [
            "Epoch 10: 100%|██████████| 2351/2351 [00:41<00:00, 56.06it/s]\n"
          ]
        },
        {
          "output_type": "stream",
          "name": "stdout",
          "text": [
            "Epoch 10 - Loss promedio: 3.0617\n",
            "\n",
            "Ejemplo de estrofa generada (AABB):\n",
            "como un frágil azul se sueña y todo se oye\n",
            "hasta llegar a la mar, y la duda pálida amado,\n",
            "a la hora te <unk>\n",
            "mi lengua de <unk> <unk>\n",
            "----------------------------------------\n"
          ]
        },
        {
          "output_type": "stream",
          "name": "stderr",
          "text": [
            "Epoch 11: 100%|██████████| 2351/2351 [00:41<00:00, 56.98it/s]\n"
          ]
        },
        {
          "output_type": "stream",
          "name": "stdout",
          "text": [
            "Epoch 11 - Loss promedio: 3.0201\n",
            "\n",
            "Ejemplo de estrofa generada (AABB):\n",
            "yo lo dejo estos <unk>\n",
            "cuando a mis padres no me <unk>\n",
            "con la carne manchada por las <unk>\n",
            "para <unk> el día como <unk> no se oyen nunca\n",
            "----------------------------------------\n"
          ]
        },
        {
          "output_type": "stream",
          "name": "stderr",
          "text": [
            "Epoch 12: 100%|██████████| 2351/2351 [00:41<00:00, 56.81it/s]\n"
          ]
        },
        {
          "output_type": "stream",
          "name": "stdout",
          "text": [
            "Epoch 12 - Loss promedio: 2.9819\n",
            "\n",
            "Ejemplo de estrofa generada (AABB):\n",
            "el alma cuaja o al <unk>\n",
            "de los <unk>\n",
            "mas nada <unk> de mí: <unk>\n",
            "a ti lira, a otros\n",
            "----------------------------------------\n"
          ]
        },
        {
          "output_type": "stream",
          "name": "stderr",
          "text": [
            "Epoch 13: 100%|██████████| 2351/2351 [00:41<00:00, 56.85it/s]\n"
          ]
        },
        {
          "output_type": "stream",
          "name": "stdout",
          "text": [
            "Epoch 13 - Loss promedio: 2.9456\n",
            "\n",
            "Ejemplo de estrofa generada (AABB):\n",
            "a mi profesor la vez más <unk>\n",
            "y <unk> mi corazón\n",
            "y se van llorando, llorando,\n",
            "no dejes que los días\n",
            "----------------------------------------\n"
          ]
        },
        {
          "output_type": "stream",
          "name": "stderr",
          "text": [
            "Epoch 14: 100%|██████████| 2351/2351 [00:41<00:00, 57.06it/s]\n"
          ]
        },
        {
          "output_type": "stream",
          "name": "stdout",
          "text": [
            "Epoch 14 - Loss promedio: 2.9123\n",
            "\n",
            "Ejemplo de estrofa generada (AABB):\n",
            "una a una,\n",
            "como un barco desnudo\n",
            "de su vida y es un latido\n",
            "<unk> <unk>\n",
            "----------------------------------------\n"
          ]
        },
        {
          "output_type": "stream",
          "name": "stderr",
          "text": [
            "Epoch 15: 100%|██████████| 2351/2351 [00:41<00:00, 57.04it/s]\n"
          ]
        },
        {
          "output_type": "stream",
          "name": "stdout",
          "text": [
            "Epoch 15 - Loss promedio: 2.8820\n",
            "\n",
            "Ejemplo de estrofa generada (AABB):\n",
            "<unk> <unk> y <unk>\n",
            "ni <unk> más ni <unk> <unk>\n",
            "tu luz, te quiero oh dios, yo en el aire,\n",
            "yo <unk> me voy\n",
            "----------------------------------------\n"
          ]
        },
        {
          "output_type": "stream",
          "name": "stderr",
          "text": [
            "Epoch 16: 100%|██████████| 2351/2351 [00:41<00:00, 56.60it/s]\n"
          ]
        },
        {
          "output_type": "stream",
          "name": "stdout",
          "text": [
            "Epoch 16 - Loss promedio: 2.8531\n",
            "\n",
            "Ejemplo de estrofa generada (AABB):\n",
            "las hojas de nosotros cuando desde ahí,\n",
            "de la santa mujer que está la fruta\n",
            "en el tiempo preciso el paraíso\n",
            "y los <unk> <unk> que en la tierra confunden\n",
            "----------------------------------------\n"
          ]
        },
        {
          "output_type": "stream",
          "name": "stderr",
          "text": [
            "Epoch 17: 100%|██████████| 2351/2351 [00:41<00:00, 57.07it/s]\n"
          ]
        },
        {
          "output_type": "stream",
          "name": "stdout",
          "text": [
            "Epoch 17 - Loss promedio: 2.8260\n",
            "\n",
            "Ejemplo de estrofa generada (AABB):\n",
            "no <unk>\n",
            "un <unk> loto\n",
            "<unk> <unk> su última tormenta\n",
            "lo dejaré la bajar de dios\n",
            "----------------------------------------\n"
          ]
        },
        {
          "output_type": "stream",
          "name": "stderr",
          "text": [
            "Epoch 18: 100%|██████████| 2351/2351 [00:41<00:00, 57.08it/s]\n"
          ]
        },
        {
          "output_type": "stream",
          "name": "stdout",
          "text": [
            "Epoch 18 - Loss promedio: 2.8020\n",
            "\n",
            "Ejemplo de estrofa generada (AABB):\n",
            "en esa hora se juntan igual a vivir en algunos\n",
            "cuando en vez de la ciencia avanza silenciosa\n",
            "todo lo dice que le he perdido con mucho\n",
            "como el primer regalo,\n",
            "----------------------------------------\n"
          ]
        },
        {
          "output_type": "stream",
          "name": "stderr",
          "text": [
            "Epoch 19: 100%|██████████| 2351/2351 [00:41<00:00, 56.84it/s]\n"
          ]
        },
        {
          "output_type": "stream",
          "name": "stdout",
          "text": [
            "Epoch 19 - Loss promedio: 2.7818\n",
            "\n",
            "Ejemplo de estrofa generada (AABB):\n",
            "<unk>\n",
            "entre unos <unk> fantasmas que no saben\n",
            "a la piedra, nunca en nada\n",
            "al tiempo que le pasaban de <unk>\n",
            "----------------------------------------\n"
          ]
        },
        {
          "output_type": "stream",
          "name": "stderr",
          "text": [
            "Epoch 20: 100%|██████████| 2351/2351 [00:41<00:00, 56.57it/s]\n"
          ]
        },
        {
          "output_type": "stream",
          "name": "stdout",
          "text": [
            "Epoch 20 - Loss promedio: 2.7602\n",
            "\n",
            "Ejemplo de estrofa generada (AABB):\n",
            "en tanto <unk>\n",
            "y la ausencia marcha en busca\n",
            "mientras en una tarde tan grande\n",
            "porque le van morir los pelos son la arena,\n",
            "----------------------------------------\n"
          ]
        },
        {
          "output_type": "display_data",
          "data": {
            "text/plain": [
              "<Figure size 640x480 with 1 Axes>"
            ],
            "image/png": "[encoded data removed]"
          },
          "metadata": {}
        }
      ],
      "source": [
        "import torch.optim as optim\n",
        "from tqdm import tqdm\n",
        "import matplotlib.pyplot as plt\n",
        "import random\n",
        "\n",
        "def set_seed(seed=42):\n",
        "    random.seed(seed)\n",
        "    np.random.seed(seed)\n",
        "    torch.manual_seed(seed)\n",
        "    if torch.cuda.is_available():\n",
        "        torch.cuda.manual_seed_all(seed)\n",
        "set_seed(42)\n",
        "\n",
        "batch_size = 64\n",
        "epochs = 20\n",
        "loader = DataLoader(dataset, batch_size=batch_size, shuffle=True, collate_fn=collate_fn)\n",
        "\n",
        "optimizer = optim.Adam(model.parameters(), lr=1e-3)\n",
        "criterion = nn.CrossEntropyLoss(ignore_index=pad_idx)\n",
        "\n",
        "losses = []\n",
        "\n",
        "def sample_stanza(model, idx_to_token, token_to_idx, word2label, label_map, scheme='AABB', lines=4, max_words=10, temp=1.0, topk=50):\n",
        "    model.eval()\n",
        "    stanza = []\n",
        "    scheme = scheme.upper()\n",
        "    mapping = {c: l for c, l in zip(scheme, list(label_map.values())[:len(set(scheme))])}\n",
        "    for l in range(lines):\n",
        "        scheme_char = scheme[l % len(scheme)]\n",
        "        target_label = mapping.get(scheme_char, None)\n",
        "        line_tokens = ['<s>']\n",
        "        hidden = None\n",
        "        for wi in range(max_words):\n",
        "            input_idx = torch.tensor([[token_to_idx.get(line_tokens[-1], token_to_idx['<unk>'])]], dtype=torch.long).to(device)\n",
        "            logits, hidden = model(input_idx, hidden)\n",
        "            logits = logits[0, -1, :].detach()\n",
        "            probs = torch.softmax(logits / max(1e-8, temp), dim=-1).cpu().numpy()\n",
        "            if wi == max_words - 1 and target_label is not None:\n",
        "                # Constrained sampling para la última palabra\n",
        "                candidates = [i for i, w in idx_to_token.items() if word2label.get(w) == target_label]\n",
        "                if candidates:\n",
        "                    cand_probs = probs[candidates]\n",
        "                    s = cand_probs.sum()\n",
        "                    if s > 0:\n",
        "                        cand_probs = cand_probs / s\n",
        "                        chosen = np.random.choice(candidates, p=cand_probs)\n",
        "                    else:\n",
        "                        chosen = np.random.choice(np.arange(len(probs)), p=probs/probs.sum())\n",
        "                else:\n",
        "                    chosen = np.random.choice(np.arange(len(probs)), p=probs/probs.sum())\n",
        "            else:\n",
        "                # top-k sampling\n",
        "                idx = np.argpartition(-probs, topk-1)[:topk]\n",
        "                p = probs[idx]\n",
        "                p = p / p.sum()\n",
        "                chosen = np.random.choice(idx, p=p)\n",
        "            w = idx_to_token.get(int(chosen), '<unk>')\n",
        "            if w == '</s>':\n",
        "                break\n",
        "            line_tokens.append(w)\n",
        "        if line_tokens and line_tokens[0] == '<s>':\n",
        "            line_tokens = line_tokens[1:]\n",
        "        stanza.append(' '.join(line_tokens))\n",
        "    return '\\n'.join(stanza)\n",
        "\n",
        "for epoch in range(1, epochs+1):\n",
        "    model.train()\n",
        "    total_loss = 0.0\n",
        "    n_batches = 0\n",
        "    for batch in tqdm(loader, desc=f'Epoch {epoch}'):\n",
        "        batch = batch.to(device)\n",
        "        inputs = batch[:, :-1]\n",
        "        targets = batch[:, 1:]\n",
        "        optimizer.zero_grad()\n",
        "        logits, _ = model(inputs)\n",
        "        loss = criterion(logits.view(-1, logits.size(-1)), targets.reshape(-1))\n",
        "        loss.backward()\n",
        "        optimizer.step()\n",
        "        total_loss += loss.item()\n",
        "        n_batches += 1\n",
        "    avg_loss = total_loss / max(1, n_batches)\n",
        "    losses.append(avg_loss)\n",
        "    print(f'Epoch {epoch} - Loss promedio: {avg_loss:.4f}')\n",
        "    # Generar ejemplo de estrofa\n",
        "    print('\\nEjemplo de estrofa generada (AABB):')\n",
        "    print(sample_stanza(model, idx_to_token, token_to_idx, word2label, label_map, scheme='AABB', lines=4, max_words=10))\n",
        "    print('-'*40)\n",
        "\n",
        "plt.plot(range(1, len(losses)+1), losses, marker='o')\n",
        "plt.xlabel('Epoch')\n",
        "plt.ylabel('Loss promedio')\n",
        "plt.title('Evolución de la pérdida durante el entrenamiento')\n",
        "plt.show()\n"
      ]
    },
    {
      "cell_type": "markdown",
      "id": "45a68304",
      "metadata": {
        "id": "45a68304"
      },
      "source": [
        "## 8. Generación de muestras finales con rima forzada\n",
        "\n",
        "**Explicación técnica:**\n",
        "- Se puede elegir el esquema de rima (AABB, ABAB, etc), número de estrofas y versos por estrofa.\n",
        "- Se fuerza la rima en la última palabra de cada verso según el esquema.\n",
        "- Se pueden ajustar temperatura y top-k para controlar la creatividad.\n"
      ]
    },
    {
      "cell_type": "code",
      "execution_count": 17,
      "id": "329f9e0d",
      "metadata": {
        "id": "329f9e0d",
        "colab": {
          "base_uri": "https://localhost:8080/"
        },
        "outputId": "84f8e026-638f-4706-c966-dc3430abed5e"
      },
      "outputs": [
        {
          "output_type": "stream",
          "name": "stdout",
          "text": [
            "# Generación final\n",
            "\n",
            "Esquema: AABB\n",
            "Estrofas: 10\n",
            "Versos por estrofa: 4\n",
            "\n",
            "y del mundo y de su <unk>\n",
            "el viento entre las piedras, las hojas,\n",
            "<unk> <unk>\n",
            "con <unk> <unk>\n",
            "\n",
            "y <unk> el aire y el campo,\n",
            "que te <unk> a curar en una tarde\n",
            "<unk> de noche <unk>\n",
            "la <unk>\n",
            "\n",
            "y <unk> de <unk>\n",
            "y el ruido de la noche\n",
            "y en el <unk>\n",
            "y de <unk>\n",
            "\n",
            "que la noche <unk>\n",
            "y se hace memoria.\n",
            "por no <unk> <unk>\n",
            "que me <unk> a ti, ¡dulce amor <unk>\n",
            "\n",
            "que se <unk> en la frialdad de su <unk> escucha,\n",
            "y el <unk> no temas, <unk> o <unk>\n",
            "que me voy enredando en esas algas firmes\n",
            "<unk> una silla,\n",
            "\n",
            "y <unk> de <unk>\n",
            "<unk> <unk> el <unk>\n",
            "de algún modo soy la sombra todo <unk>\n",
            "el último beso!\n",
            "\n",
            "<unk> el <unk>\n",
            "de los <unk>\n",
            "en la tierra\n",
            "que se <unk> en el ignorado del <unk>\n",
            "\n",
            "<unk> la mano en la mejilla, medita grandes\n",
            "ni <unk> <unk> en el <unk>\n",
            "en una <unk> <unk>\n",
            "y <unk> como fuman los condenados a muerte.\n",
            "\n",
            "de <unk> y de <unk>\n",
            "<unk> las <unk>\n",
            "para el <unk> es de una <unk> a veces, que\n",
            "al fin, a la puerta del <unk>\n",
            "\n",
            "con una <unk> instantánea y <unk>\n",
            "<unk> por el <unk> a quien no me tuvo menos\n",
            "<unk> <unk> la <unk>\n",
            "de aquel que se <unk> con <unk> espuma.\n",
            "Muestras guardadas en samples.txt\n"
          ]
        }
      ],
      "source": [
        "# Parámetros de generación\n",
        "num_stanzas = 10\n",
        "lines_per_stanza = 4\n",
        "scheme = 'AABB'\n",
        "max_words_gen = 10\n",
        "temp = 0.8  # Recomendado: menor para menos aleatoriedad\n",
        "topk = 30   # Recomendado: menor para menos <unk>\n",
        "\n",
        "all_samples = []\n",
        "for s in range(num_stanzas):\n",
        "    stanza = sample_stanza(model, idx_to_token, token_to_idx, word2label, label_map, scheme=scheme, lines=lines_per_stanza, max_words=max_words_gen, temp=temp, topk=topk)\n",
        "    all_samples.append(stanza)\n",
        "\n",
        "samples_text = f\"# Generación final\\n\\nEsquema: {scheme}\\nEstrofas: {num_stanzas}\\nVersos por estrofa: {lines_per_stanza}\\n\\n\"\n",
        "samples_text += '\\n\\n'.join(all_samples)\n",
        "\n",
        "print(samples_text)\n",
        "\n",
        "# Guardar a archivo\n",
        "with open('samples.txt', 'w', encoding='utf-8') as f:\n",
        "    f.write(samples_text)\n",
        "print('Muestras guardadas en samples.txt')\n"
      ]
    }
  ],
  "metadata": {
    "language_info": {
      "name": "python"
    },
    "colab": {
      "provenance": [],
      "gpuType": "T4",
      "include_colab_link": true
    },
    "kernelspec": {
      "name": "python3",
      "display_name": "Python 3"
    },
    "accelerator": "GPU"
  },
  "nbformat": 4,
  "nbformat_minor": 5
}